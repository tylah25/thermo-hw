{
 "cells": [
  {
   "cell_type": "code",
   "execution_count": null,
   "id": "4d197607",
   "metadata": {},
   "outputs": [],
   "source": [
    "import numpy as np\n",
    "import hoomd \n",
    "import gsd.hoomd\n",
    "import itertools"
   ]
  },
  {
   "cell_type": "markdown",
   "id": "a7834edc",
   "metadata": {},
   "source": [
    "# Initial Configuration Generator"
   ]
  },
  {
   "cell_type": "markdown",
   "id": "923ae7d1",
   "metadata": {},
   "source": [
    "Use this script to generate the initial configuration of hard spheres at different sizes. The only thing you need to do is input the relevant parameters in the first cell. The notebook will do the rest. \n",
    "\n",
    "**Note: This script does not generate the correct volume of the box. Be sure to calculate the proper volume for the system and shrink the box properly during the simulation.**"
   ]
  },
  {
   "cell_type": "code",
   "execution_count": null,
   "id": "3ebbcdfd",
   "metadata": {},
   "outputs": [],
   "source": [
    "#input parameters \n",
    "init_config_filename =  #filename to create for the initial configuration\n",
    "\n",
    "N_l =  #number of large particles\n",
    "N_s =  #number of small particles\n",
    "\n",
    "q =  #particle size ratio\n",
    "dl =  #diameter of large colloid\n",
    "\n",
    "ds = dl*q #diameter of small colloid\n",
    "N_t = N_l+N_s #total number of particles\n",
    "\n",
    "print(f'There are {N_t} particles in the system: \\n\\t{N_l} large particles with diameter {dl} \\n\\t{N_s} small particles with diameter {ds}.')"
   ]
  },
  {
   "cell_type": "code",
   "execution_count": null,
   "id": "f8c5f51b",
   "metadata": {},
   "outputs": [],
   "source": [
    "spacing = dl+0.1\n",
    "K = int(np.ceil(N_t**(1/3)))\n",
    "L = K*spacing\n",
    "x = np.linspace(-L/2, L/2, K, endpoint=False)\n",
    "pos = list(itertools.product(x,repeat=3))\n",
    "\n",
    "diameters = np.full(N_t,dl)\n",
    "typeids = np.zeros(N_t)\n",
    "types = ['large', 'small']\n",
    "\n",
    "for i in range(N_s):\n",
    "    typeids[i] = 1\n",
    "    diameters[i] = ds\n",
    "    \n",
    "for i in range(N_l, N_t):\n",
    "    j = np.random.randint(N_s)\n",
    "    pos[j], pos[i] = pos[i], pos[j]\n",
    "    \n",
    "frame = gsd.hoomd.Frame()\n",
    "\n",
    "frame.particles.N = N_t\n",
    "frame.particles.position = pos[:N_t]\n",
    "frame.particles.types = types\n",
    "frame.particles.typeid = typeids\n",
    "frame.particles.diameter = diameters\n",
    "frame.configuration.box = [L, L, L, 0, 0, 0]\n",
    "\n",
    "with gsd.hoomd.open(name=init_config_filename, mode='w') as f:\n",
    "    f.append(frame)\n",
    "f.close()"
   ]
  }
 ],
 "metadata": {
  "kernelspec": {
   "display_name": "hoomd4",
   "language": "python",
   "name": "hoomd"
  },
  "language_info": {
   "codemirror_mode": {
    "name": "ipython",
    "version": 3
   },
   "file_extension": ".py",
   "mimetype": "text/x-python",
   "name": "python",
   "nbconvert_exporter": "python",
   "pygments_lexer": "ipython3",
   "version": "3.11.4"
  }
 },
 "nbformat": 4,
 "nbformat_minor": 5
}
