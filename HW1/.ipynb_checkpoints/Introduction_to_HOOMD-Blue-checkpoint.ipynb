{
 "cells": [
  {
   "cell_type": "markdown",
   "id": "8982560d",
   "metadata": {},
   "source": [
    "# Introduction to HOOMD-Blue"
   ]
  },
  {
   "cell_type": "markdown",
   "id": "f04bbfb6",
   "metadata": {},
   "source": [
    "This is a tutorial for HOOMD-Blue, adapted from the tutorial found in HOOMD-Blue's documentation (https://hoomd-blue.readthedocs.io/en/latest/tutorials.html). \n",
    "\n",
    "Use the Introduction to Molecular Dynamics tutorial to help you complete this notebook and run your first simulation. Answer the bolded questions in a new cell underneath the question. \n",
    "\n",
    "Once you have completed the questions and ran all the cells in the notebook successfully, select File --> Print Preview to open the print preview. Then using Ctrl+P (or Cmd+P on Mac) open the print window and save it as a PDF. Submit the PDF to Canvas along with your written homework."
   ]
  },
  {
   "cell_type": "markdown",
   "id": "488745e5",
   "metadata": {},
   "source": [
    "For more information on how to navigate Jupyter Notebooks, visit this webpage: https://jupyter-notebook.readthedocs.io/en/stable/examples/Notebook/Notebook%20Basics.html"
   ]
  },
  {
   "cell_type": "markdown",
   "id": "4f2fba24",
   "metadata": {},
   "source": [
    "## Getting Started"
   ]
  },
  {
   "cell_type": "markdown",
   "id": "8e6a3894",
   "metadata": {},
   "source": [
    "The first step to using HOOMD is to import the package in python, then specify the device that you will be using to execute the simulation operations. For this course, you will always use a CPU device."
   ]
  },
  {
   "cell_type": "code",
   "execution_count": null,
   "id": "b9ce7aa2",
   "metadata": {},
   "outputs": [],
   "source": [
    "import hoomd #import the hoomd package into python\n",
    "cpu = hoomd.device.CPU() #specify the CPU device"
   ]
  },
  {
   "cell_type": "markdown",
   "id": "b3a353cc",
   "metadata": {},
   "source": [
    "We also want to import a few other packages so that we can do calculations and make figures."
   ]
  },
  {
   "cell_type": "code",
   "execution_count": null,
   "id": "ccb0dc73",
   "metadata": {},
   "outputs": [],
   "source": [
    "import numpy as np\n",
    "import matplotlib\n",
    "import matplotlib.pyplot as plt\n",
    "matplotlib.style.use('ggplot')\n",
    "import itertools"
   ]
  },
  {
   "cell_type": "markdown",
   "id": "1567fef1",
   "metadata": {},
   "source": [
    "When creating a simulation in HOOMD, you must instantiate a Simulation object and a State object. **What do these objects each contain?** We can instantiate a simulation below. "
   ]
  },
  {
   "cell_type": "code",
   "execution_count": null,
   "id": "b0d80572",
   "metadata": {},
   "outputs": [],
   "source": [
    "#instantiate a simulation\n",
    "sim = hoomd.Simulation(device=cpu, seed=1)"
   ]
  },
  {
   "cell_type": "markdown",
   "id": "2659c04b",
   "metadata": {},
   "source": [
    "A molecular dynamics simulation models the movement of particles over time by integrating Newton's equations of motion numerically, advancing the state of the system forward by time *dt* on each time step. \n",
    "\n",
    "Each simulation requires an **integrator** to advance the simulation. We can create one by using the integrator class in hoomd's md package to implement molecular dynamics integration. "
   ]
  },
  {
   "cell_type": "code",
   "execution_count": null,
   "id": "a0214d9e",
   "metadata": {},
   "outputs": [],
   "source": [
    "integrator = hoomd.md.Integrator(dt=0.005)"
   ]
  },
  {
   "cell_type": "markdown",
   "id": "b9e62900",
   "metadata": {},
   "source": [
    "Now that the integrator has been estabilished, we need to describe the interactions between particles by using the force term of the equations of motion. The default in HOOMD is to have no forces, and you can add as many force objects as you'd like to the integrator to describe particle interaction. \n",
    "\n",
    "We are going to establish a pair potential, that describes the potential energy between a single pair of particles given their separation distance *r*. The pair potential we will use is called the Lennard-Jones potential, and \n",
    "is given as: $$V_{LJ}(r)=4\\epsilon\\left[\\left(\\frac{\\sigma}{r}\\right)^{12}-\\left(\\frac{\\sigma}{r}\\right)^6\\right]$$\n",
    "where $\\sigma$ is the diameter of the particle in LJ units, and $\\epsilon$ is the energy in LJ units."
   ]
  },
  {
   "cell_type": "code",
   "execution_count": null,
   "id": "83837aad",
   "metadata": {},
   "outputs": [],
   "source": [
    "sigma=1\n",
    "epsilon=1\n",
    "r = np.linspace(0.95, 3, 500)\n",
    "V_lj = 4*epsilon*((sigma/r)**12 - (sigma/r)**6)\n",
    "\n",
    "fig, ax = plt.subplots()\n",
    "ax.plot(r, V_lj)\n",
    "ax.set_xlabel('r')\n",
    "ax.set_ylabel('V')\n",
    "plt.show()"
   ]
  },
  {
   "cell_type": "markdown",
   "id": "ca7de3ab",
   "metadata": {},
   "source": [
    "The Lennard-Jones potential has two main sections. **What are these sections and what do they represent?**"
   ]
  },
  {
   "cell_type": "markdown",
   "id": "55f2eb7e",
   "metadata": {},
   "source": [
    "Pair potentials are defined between all pairs of particles. In molecualr dynamics simulations, however, pair potentials are only evaluated for pairs of particles with distance $r<r_{cut}$, where $r_{cut}$ is a user defined cutoff distance. This allows for much faster computation, and is done using a neighbor list. We are going to use a cell based neighbor list that divides the simulation box into smaller boxes (aka cells) to find neighbors within the cutoff distance."
   ]
  },
  {
   "cell_type": "code",
   "execution_count": null,
   "id": "e5035372",
   "metadata": {},
   "outputs": [],
   "source": [
    "cell = hoomd.md.nlist.Cell(buffer=0.4)"
   ]
  },
  {
   "cell_type": "markdown",
   "id": "8222336f",
   "metadata": {},
   "source": [
    "With an established neighbor list method, we can create the Lennard-Jones pair potential. "
   ]
  },
  {
   "cell_type": "code",
   "execution_count": null,
   "id": "e8e1e9f6",
   "metadata": {},
   "outputs": [],
   "source": [
    "lj = hoomd.md.pair.LJ(nlist=cell)"
   ]
  },
  {
   "cell_type": "markdown",
   "id": "c2773bd5",
   "metadata": {},
   "source": [
    "Pair potentials in HOOMD need paramters for every pair of particle types in the simulation. In our initial simulation, we will only have one particle type, type 'A'. We can define the A-A particle interaction as follows."
   ]
  },
  {
   "cell_type": "code",
   "execution_count": null,
   "id": "40693d17",
   "metadata": {},
   "outputs": [],
   "source": [
    "lj.params[('A', 'A')] = dict(epsilon=1, sigma=1)\n",
    "lj.r_cut[('A', 'A')] = 2.5"
   ]
  },
  {
   "cell_type": "markdown",
   "id": "56f2bea0",
   "metadata": {},
   "source": [
    "Now we can add the force to our integrator so that it is included in the calculations. "
   ]
  },
  {
   "cell_type": "code",
   "execution_count": null,
   "id": "7d4118f8",
   "metadata": {},
   "outputs": [],
   "source": [
    "integrator.forces.append(lj)"
   ]
  },
  {
   "cell_type": "markdown",
   "id": "35c21879",
   "metadata": {},
   "source": [
    "Now that we have selected our integrator and added forces to model particle interactions, we must choose what integration method we would like to use. Integration methods define the equations of motion that will be applied to the particles in the system. For this simulation, we will use a constant volume integration method that will implement Newton's laws while the thermostat scales the particle velocities. "
   ]
  },
  {
   "cell_type": "code",
   "execution_count": null,
   "id": "da432be9",
   "metadata": {},
   "outputs": [],
   "source": [
    "nvt = hoomd.md.methods.ConstantVolume(\n",
    "    filter = hoomd.filter.All(), \n",
    "    thermostat=hoomd.md.methods.thermostats.Bussi(kT=1.5))"
   ]
  },
  {
   "cell_type": "markdown",
   "id": "d9066eb0",
   "metadata": {},
   "source": [
    "In the above code block, `filter` is a particle filter that selects which particles the integration method applies to. For this simulation, we've chosen to apply the constant volume integration method to all particles. `kT` is the temperature multipled by the Boltzmann constant, and has units of energy."
   ]
  },
  {
   "cell_type": "markdown",
   "id": "6c1d362b",
   "metadata": {},
   "source": [
    "**Now, add this method to the integrator.**"
   ]
  },
  {
   "cell_type": "code",
   "execution_count": null,
   "id": "6b46bc0b",
   "metadata": {},
   "outputs": [],
   "source": [
    "#add the integration method to the integrator. \n"
   ]
  },
  {
   "cell_type": "markdown",
   "id": "d04fe657",
   "metadata": {},
   "source": [
    "# Initializing the System"
   ]
  },
  {
   "cell_type": "markdown",
   "id": "e9e2d48e",
   "metadata": {},
   "source": [
    "We are going to initialize a system of Lennard-Jones particles on a cubic lattice with $N=4*m^3$ particles."
   ]
  },
  {
   "cell_type": "code",
   "execution_count": null,
   "id": "e34a13ce",
   "metadata": {},
   "outputs": [],
   "source": [
    "m = 4\n",
    "N_particles = 4*m**3"
   ]
  },
  {
   "cell_type": "markdown",
   "id": "5ddb83a0",
   "metadata": {},
   "source": [
    "In molecular dynamics simulations, particles can theoretically occupy any position within the simulation box, however, because we are using the LJ potential, we must ensure that the particles do not overlap. **Why is this? What would happen if the particles *did* overlap?**"
   ]
  },
  {
   "cell_type": "code",
   "execution_count": null,
   "id": "505e72bb",
   "metadata": {},
   "outputs": [],
   "source": [
    "spacing = 1.3\n",
    "K = int(np.ceil(N_particles**(1/3)))\n",
    "L = K*spacing\n",
    "x = np.linspace(-L/2, L/2, K, endpoint=False)\n",
    "position = list(itertools.product(x,repeat=3))"
   ]
  },
  {
   "cell_type": "markdown",
   "id": "2109f652",
   "metadata": {},
   "source": [
    "Now that we have generated the initial particle positions, we can add them to our simulation state. HOOMD uses GSD files to store information about the simulation box, particle positions, and other properties of the simulation state. We must import the GSD module to create our own GSD file. "
   ]
  },
  {
   "cell_type": "code",
   "execution_count": null,
   "id": "95d39c7d",
   "metadata": {},
   "outputs": [],
   "source": [
    "import gsd.hoomd"
   ]
  },
  {
   "cell_type": "markdown",
   "id": "dea83385",
   "metadata": {},
   "source": [
    "The **Frame** object stores the state of the system. "
   ]
  },
  {
   "cell_type": "code",
   "execution_count": null,
   "id": "e8c05294",
   "metadata": {},
   "outputs": [],
   "source": [
    "frame = gsd.hoomd.Frame()\n",
    "frame.particles.N = N_particles\n",
    "frame.particles.position = position[0:N_particles]"
   ]
  },
  {
   "cell_type": "markdown",
   "id": "6287fef1",
   "metadata": {},
   "source": [
    "What we just did is initialize a frame of our simulation that contains the positions of all particles. Each particle has a type, and each type has a name. We must also include this information in our initial frame."
   ]
  },
  {
   "cell_type": "code",
   "execution_count": null,
   "id": "e7ec3a7a",
   "metadata": {},
   "outputs": [],
   "source": [
    "frame.particles.typeid = [0]*N_particles\n",
    "frame.particles.types = ['A']"
   ]
  },
  {
   "cell_type": "markdown",
   "id": "76df873b",
   "metadata": {},
   "source": [
    "The final piece of information we need to include in our initialization for this simulation is size of our box. The simulation box that we are creating is a periodic box. **What is a periodic box and why do we use it?** "
   ]
  },
  {
   "cell_type": "markdown",
   "id": "12463141",
   "metadata": {},
   "source": [
    "The box configuration takes in the length of the box in the x, y, and z dimensions as well as the tilt factor used in the box (0 for our simulation)."
   ]
  },
  {
   "cell_type": "code",
   "execution_count": null,
   "id": "e4a64846",
   "metadata": {},
   "outputs": [],
   "source": [
    "frame.configuration.box = [L, L, L, 0, 0, 0]"
   ]
  },
  {
   "cell_type": "markdown",
   "id": "1370d0f4",
   "metadata": {},
   "source": [
    "Finally, we can write this information to our gsd file. We will title it `init_config.gsd`"
   ]
  },
  {
   "cell_type": "code",
   "execution_count": null,
   "id": "df2655f7",
   "metadata": {},
   "outputs": [],
   "source": [
    "with gsd.hoomd.open(name='init_config.gsd', mode='w') as f:\n",
    "    f.append(frame)\n",
    "f.close()"
   ]
  },
  {
   "cell_type": "markdown",
   "id": "d361f010",
   "metadata": {},
   "source": [
    "## Starting up the Simulation"
   ]
  },
  {
   "cell_type": "markdown",
   "id": "9942d276",
   "metadata": {},
   "source": [
    "We have already done a lot of the initial steps that are required to startup a simulation in HOOMD-Blue. To recap, here's what we've done so far: \n",
    "```python\n",
    "cpu = hoomd.device.CPU()\n",
    "sim = hoomd.Simulation(device=cpu, seed=1)\n",
    "\n",
    "integrator = hoomd.md.Integrator(dt=0.005)\n",
    "cell = hoomd.md.nlist.Cell(buffer=0.0)\n",
    "lj = hoomd.md.pair.LJ(nlist=cell)\n",
    "lj.params[('A', 'A',)] = dict(epsilon=1, sigma=1)\n",
    "lj.r_cut[('A', 'A')] = 2.5\n",
    "integrator.forces.append(lj)\n",
    "nvt = hoomd.md.methods.ConstantVolume(\n",
    "    filter=hoomd.filter.All(),\n",
    "    thermostat=hoomd.md.methods.thermostats.Bussi(kT=1.5))\n",
    "integrator.methods.append(nvt)\n",
    "```\n",
    "Now we need to fill in the gaps so that we can start running our first simulation!\n"
   ]
  },
  {
   "cell_type": "markdown",
   "id": "ffc279b1",
   "metadata": {},
   "source": [
    "The first thing we need to do is initialize the system state. Typically, this is done right after initializing the simulation (`sim = hoomd.Simulation(device=cpu, seed=1)`). We are going to use the `init_config.gsd` file that we created earlier to initialize our sysem state. "
   ]
  },
  {
   "cell_type": "code",
   "execution_count": null,
   "id": "141268e7",
   "metadata": {},
   "outputs": [],
   "source": [
    "sim.create_state_from_gsd(filename='init_config.gsd')"
   ]
  },
  {
   "cell_type": "markdown",
   "id": "f38232aa",
   "metadata": {},
   "source": [
    "Now we can assign our integrator to the simulation. "
   ]
  },
  {
   "cell_type": "code",
   "execution_count": null,
   "id": "4a07177e",
   "metadata": {},
   "outputs": [],
   "source": [
    "sim.operations.integrator = integrator"
   ]
  },
  {
   "cell_type": "markdown",
   "id": "51971a2f",
   "metadata": {},
   "source": [
    "Now that that's all done, we can assign random initial velocities to our particles. The default in HOOMD-Blue is for particles to have zero initial velocity, however it is important that the particles are initialized with non-zero velocities so that the integrator can compute forces properly. We will use the `thermalize_particle_momenta` method to assign Gaussian distributed random initial velocities, and set the velocity center of mass to zero. "
   ]
  },
  {
   "cell_type": "code",
   "execution_count": null,
   "id": "ad222841",
   "metadata": {},
   "outputs": [],
   "source": [
    "sim.state.thermalize_particle_momenta(filter=hoomd.filter.All(), kT=1.5)"
   ]
  },
  {
   "cell_type": "markdown",
   "id": "81d05e57",
   "metadata": {},
   "source": [
    "If we want to be able to access the thermodynamic information about our simulation later, we can include a **Compute**, which is an **Operation** that computes desired properties of a system. We are going to use the **ThermodynamicQuantities** class to compute the thermodynamic properties of the system."
   ]
  },
  {
   "cell_type": "code",
   "execution_count": null,
   "id": "bac24b7c",
   "metadata": {},
   "outputs": [],
   "source": [
    "thermo_properties = hoomd.md.compute.ThermodynamicQuantities(filter=hoomd.filter.All())\n",
    "sim.operations.computes.append(thermo_properties)"
   ]
  },
  {
   "cell_type": "markdown",
   "id": "7cf38342",
   "metadata": {},
   "source": [
    "In order to be able to access information about how our system evolves over time, we want to make sure that we log the properties of the simulation. Within HOOMD-Blue there are certain **Loggable quantities** that we can access by creating a **Logger**. "
   ]
  },
  {
   "cell_type": "markdown",
   "id": "b70b3bd4",
   "metadata": {},
   "source": [
    "First, we must create the logger object. This will store a list of all the properties that we are interested in and provide it to our **Writer** when called."
   ]
  },
  {
   "cell_type": "code",
   "execution_count": null,
   "id": "4bd9c767",
   "metadata": {},
   "outputs": [],
   "source": [
    "logger = hoomd.logging.Logger()"
   ]
  },
  {
   "cell_type": "markdown",
   "id": "2f56a353",
   "metadata": {},
   "source": [
    "Now, we can add the loggable quantaties that we are interested in to our logger object."
   ]
  },
  {
   "cell_type": "code",
   "execution_count": null,
   "id": "a0ad7c9d",
   "metadata": {},
   "outputs": [],
   "source": [
    "logger.add(thermo_properties) #we can add lists of properties like this\n",
    "logger.add(sim, quantities=['timestep', 'walltime']) #or we can add individual properties"
   ]
  },
  {
   "cell_type": "markdown",
   "id": "62af3abe",
   "metadata": {},
   "source": [
    "Now that we've created our Logger, we need to create a **Writer** to write these quantities to a GSD file. We want this writer to write out our logged quantities every 100 timesteps, so we will use a periodic trigger. "
   ]
  },
  {
   "cell_type": "code",
   "execution_count": null,
   "id": "8b5bb4be",
   "metadata": {},
   "outputs": [],
   "source": [
    "gsd_writer = hoomd.write.GSD(filename='log.gsd',\n",
    "                            trigger=hoomd.trigger.Periodic(100),\n",
    "                            mode='wb',\n",
    "                            filter=hoomd.filter.All())\n",
    "sim.operations.writers.append(gsd_writer)"
   ]
  },
  {
   "cell_type": "markdown",
   "id": "0361e5d7",
   "metadata": {},
   "source": [
    "*Note: If we are interested only in the loggable quantities, and not in the trajectory of our particles, we could set `filter=hoomd.filter.Null()`. This will ensure that we do not store any information about the positions of our particles. Since we are interested in the particle trajectory, we have applied this writer to all particles.*"
   ]
  },
  {
   "cell_type": "markdown",
   "id": "6419622e",
   "metadata": {},
   "source": [
    "Now we assign our logger to the writer we just created."
   ]
  },
  {
   "cell_type": "code",
   "execution_count": null,
   "id": "3b57e9cb",
   "metadata": {},
   "outputs": [],
   "source": [
    "gsd_writer.logger = logger"
   ]
  },
  {
   "cell_type": "markdown",
   "id": "950984af",
   "metadata": {},
   "source": [
    "We could also create a table writer to write out some information while the simulation is running. To do this, we follow similar steps to the ones above."
   ]
  },
  {
   "cell_type": "code",
   "execution_count": null,
   "id": "e8163341",
   "metadata": {},
   "outputs": [],
   "source": [
    "table_logger = hoomd.logging.Logger(categories=['scalar', 'string'])\n",
    "table_logger.add(sim, quantities=['timestep', 'tps', 'walltime'])\n",
    "\n",
    "table = hoomd.write.Table(trigger=hoomd.trigger.Periodic(period=1000),\n",
    "                          logger=table_logger)\n",
    "sim.operations.writers.append(table)"
   ]
  },
  {
   "cell_type": "markdown",
   "id": "14dec850",
   "metadata": {},
   "source": [
    "Finally, we can run the simulation! To do this, we simply use `sim.run(timesteps)` and specify the number of timesteps we'd like to run. We can run this simulation for 10,000 timesteps. "
   ]
  },
  {
   "cell_type": "code",
   "execution_count": null,
   "id": "506d86af",
   "metadata": {},
   "outputs": [],
   "source": [
    "sim.run(10000)"
   ]
  },
  {
   "cell_type": "markdown",
   "id": "d5ecf116",
   "metadata": {},
   "source": [
    "We are now going to flush the write buffer, which just allows us to access the information we just wrote out within the same notebook. This won't always be necessary."
   ]
  },
  {
   "cell_type": "code",
   "execution_count": null,
   "id": "7248191f",
   "metadata": {},
   "outputs": [],
   "source": [
    "gsd_writer.flush()"
   ]
  },
  {
   "cell_type": "markdown",
   "id": "5ff16545",
   "metadata": {},
   "source": [
    "We can save the final configuration of the system to a GSD file so that we can access it later if necessary. "
   ]
  },
  {
   "cell_type": "code",
   "execution_count": null,
   "id": "52325b97",
   "metadata": {},
   "outputs": [],
   "source": [
    "hoomd.write.GSD.write(state=sim.state, filename='final_config.gsd', mode='wb')"
   ]
  },
  {
   "cell_type": "markdown",
   "id": "88ea3b91",
   "metadata": {},
   "source": [
    "## Reading Our Logged Data"
   ]
  },
  {
   "cell_type": "markdown",
   "id": "95336cb7",
   "metadata": {},
   "source": [
    "GSD files are binary files, which means you can't just open it and read your results like a typical text file. In order to access the information we've logged about our simulation, we must use the GSD module. "
   ]
  },
  {
   "cell_type": "markdown",
   "id": "149cc80a",
   "metadata": {},
   "source": [
    "To read the logged data for the simulation state (aka for the whole system and not per-particle), we can use GSD's `read_log` function."
   ]
  },
  {
   "cell_type": "code",
   "execution_count": null,
   "id": "10339f13",
   "metadata": {},
   "outputs": [],
   "source": [
    "log_data = gsd.hoomd.read_log('log.gsd')"
   ]
  },
  {
   "cell_type": "markdown",
   "id": "9ed7e884",
   "metadata": {},
   "source": [
    "This will give us a dictionary of logged quantities with keys that describe the class that computed said quantity."
   ]
  },
  {
   "cell_type": "code",
   "execution_count": null,
   "id": "ed1df8db",
   "metadata": {},
   "outputs": [],
   "source": [
    "list(log_data.keys())"
   ]
  },
  {
   "cell_type": "markdown",
   "id": "384edbf4",
   "metadata": {},
   "source": [
    "For example, if we want to see the potential energy of the system over time, we can access it using the key `log/md/compute/ThermodynamicQuantities/potential_energy`."
   ]
  },
  {
   "cell_type": "code",
   "execution_count": null,
   "id": "a56e278c",
   "metadata": {},
   "outputs": [],
   "source": [
    "log_data['log/md/compute/ThermodynamicQuantities/potential_energy']"
   ]
  },
  {
   "cell_type": "markdown",
   "id": "9b593591",
   "metadata": {},
   "source": [
    "GSD provides logged quantities as an array with one entry per frame. For example, we could plot the potential energy over time using our logged quantities. "
   ]
  },
  {
   "cell_type": "code",
   "execution_count": null,
   "id": "1b113f0a",
   "metadata": {},
   "outputs": [],
   "source": [
    "timestep = log_data['configuration/step']\n",
    "potential_energy = log_data['log/md/compute/ThermodynamicQuantities/potential_energy']\n",
    "\n",
    "fig, ax = plt.subplots()\n",
    "ax.plot(timestep, potential_energy)\n",
    "ax.set_xlabel('timestep')\n",
    "ax.set_ylabel('potential energy')\n",
    "plt.show()"
   ]
  },
  {
   "cell_type": "markdown",
   "id": "af7db7ae",
   "metadata": {},
   "source": [
    "Try plotting the pressure of the system over time in the cell below."
   ]
  },
  {
   "cell_type": "code",
   "execution_count": null,
   "id": "92bd7a83",
   "metadata": {},
   "outputs": [],
   "source": [
    "timestep = \n",
    "pressure = \n",
    "\n",
    "fig, ax = plt.subplots()\n",
    "ax.plot()\n",
    "ax.set_xlabel('')\n",
    "ax.set_ylabel('')\n",
    "plt.show()"
   ]
  },
  {
   "cell_type": "markdown",
   "id": "880b0b32",
   "metadata": {},
   "source": [
    "To access per-particle information from the logger such as the particle positions over time, we can open the gsd file as a trajectory."
   ]
  },
  {
   "cell_type": "code",
   "execution_count": null,
   "id": "043953e1",
   "metadata": {},
   "outputs": [],
   "source": [
    "traj = gsd.hoomd.open('log.gsd', mode='r')"
   ]
  },
  {
   "cell_type": "markdown",
   "id": "c936b93a",
   "metadata": {},
   "source": [
    "Information on the particle positions is stored in `traj`, and can be accessed by frame. If we want the positions of all particles in the last frame, for example, we can access this by calling the last (-1) frame of traj. "
   ]
  },
  {
   "cell_type": "code",
   "execution_count": null,
   "id": "d757a923",
   "metadata": {},
   "outputs": [],
   "source": [
    "traj[-1].particles.position"
   ]
  },
  {
   "cell_type": "markdown",
   "id": "9a93a27c",
   "metadata": {},
   "source": [
    "Once you have completed this notebook, visualize your system using Ovito. Load your `log.gsd` file into Ovito and change the color of the particles to your favorite color. Make sure they are the correct size. Create a movie of the simulation and submit the movie along with the other files you are submitting for this homework assignment. "
   ]
  }
 ],
 "metadata": {
  "kernelspec": {
   "display_name": "hoomd4",
   "language": "python",
   "name": "hoomd"
  },
  "language_info": {
   "codemirror_mode": {
    "name": "ipython",
    "version": 3
   },
   "file_extension": ".py",
   "mimetype": "text/x-python",
   "name": "python",
   "nbconvert_exporter": "python",
   "pygments_lexer": "ipython3",
   "version": "3.11.4"
  }
 },
 "nbformat": 4,
 "nbformat_minor": 5
}
