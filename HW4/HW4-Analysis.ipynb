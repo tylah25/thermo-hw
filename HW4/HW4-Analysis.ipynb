{
 "cells": [
  {
   "cell_type": "markdown",
   "id": "8eb88526",
   "metadata": {},
   "source": [
    "# Homework 4 - Analysis"
   ]
  },
  {
   "cell_type": "markdown",
   "id": "95bed36a",
   "metadata": {},
   "source": [
    "For this homework assignment, we will look at the structural ordering of hard spheres within different phase boundaries. **Simulate 5 systems of hard spheres at different volume fractions, $\\mathbf{\\phi = 0.4, 0.5, 0.6, 0.7, \\text{and} \\: 0.74}$.** \n",
    "\n",
    "**For each simulation, note the phase of the system and calculate the RDF (see `HW4-Analysis.ipynb`). Please submit your responses to the questions and include a plot with all 5 RDFs in a PDF file along with the rest of your homework solutions and a PDF version of this notebook to Canvas.**"
   ]
  },
  {
   "cell_type": "markdown",
   "id": "3fae7e76",
   "metadata": {},
   "source": [
    "Now that you've run your simulation we can do some post-processing of the data. We're going to learn about the radial distribution function and calculate it for our hard sphere systems. **Please answer all questions in a separate PDF document, _not_ in this notebook.**"
   ]
  },
  {
   "cell_type": "code",
   "execution_count": null,
   "id": "2b8ea21a",
   "metadata": {},
   "outputs": [],
   "source": [
    "import gsd.hoomd\n",
    "import numpy as np\n",
    "import matplotlib.pyplot as plt\n",
    "import freud"
   ]
  },
  {
   "cell_type": "markdown",
   "id": "a32752a0",
   "metadata": {},
   "source": [
    "The radial distribution function gives us a way to measure the structural correlation between particles in a system. The two main aspects of an RDF that give information about a system are the first peak and the frequency of subsequent peaks. Read [this article](https://en.wikibooks.org/wiki/Molecular_Simulation/Radial_Distribution_Functions) and use it to **answer the following questions about the radial distribution function.** \n",
    "\n",
    "1. What does the radial distribution function represent?\n",
    "2. What is the significance of the _location_ of the first peak in a g(r) plot?\n",
    "3. What other information can you determine using the first peak?\n",
    "4. What does the frequency of subsequent peaks indicate in a g(r) plot?"
   ]
  },
  {
   "cell_type": "markdown",
   "id": "2c7ea8af",
   "metadata": {},
   "source": [
    "Now that you've read about the radial distribution function, it's time to calculate it for system. Let's start by loading our simulation trajectory. Make sure to include the filename from your simulation's GSD writer."
   ]
  },
  {
   "cell_type": "code",
   "execution_count": null,
   "id": "6f733961",
   "metadata": {},
   "outputs": [],
   "source": [
    "traj = gsd.hoomd.open(filename, mode='r')\n",
    "snap = traj[0]"
   ]
  },
  {
   "cell_type": "markdown",
   "id": "a368cb2a",
   "metadata": {},
   "source": [
    "For the RDF, we want to specify our correlation cutoff distance, or the maximum inter-particle distance we will consider in our calculation. The RDF cutoff distance should be smaller than half of the box size. For these systems, we will set our cutoff distance to $3\\sigma$."
   ]
  },
  {
   "cell_type": "code",
   "execution_count": null,
   "id": "3f707370",
   "metadata": {},
   "outputs": [],
   "source": [
    "rdf_cutoff = 3"
   ]
  },
  {
   "cell_type": "markdown",
   "id": "fa8eec7b",
   "metadata": {},
   "source": [
    "Now, we can set up the RDF object from freud. Here we must decide how many bins we'd like to use in this calculation. This will also determine the size of the bins, which is $L_{bin} = \\frac{r_{max}-r_{min}}{N_{bins}}$. For our cases, $r_{min} = 0$ and $r_{max} = L_{box}/2$. It is important choose an appropriate bin size when computing the RDF to ensure that the curve is smooth. We're going to use 100 bins, which is freud's default value, and generally an adequate number of bins."
   ]
  },
  {
   "cell_type": "code",
   "execution_count": null,
   "id": "9fadbced",
   "metadata": {},
   "outputs": [],
   "source": [
    "rdf = freud.density.RDF(bins=100, r_max=rdf_cutoff)"
   ]
  },
  {
   "cell_type": "markdown",
   "id": "993f1d24",
   "metadata": {},
   "source": [
    "Now, we want to actually compute the RDF. To do this, we are going to average over the last 50 frames in our simulation trajectory, which is where the `for snap in traj[-50:]` loop comes from. \n",
    "\n",
    "5. Why is it important to average our results over multiple timeframes?\n",
    "\n",
    "For each snapshot, we use freud's compute function to compute the RDF based on the positions of our particles. By setting `reset=False`, each time we compute the rdf, freud adds it to all the previous calculations and averages them."
   ]
  },
  {
   "cell_type": "code",
   "execution_count": null,
   "id": "c99d0f82",
   "metadata": {},
   "outputs": [],
   "source": [
    "for snap in traj[-50:]:\n",
    "    box = snap.configuration.box\n",
    "    pos = snap.particles.position\n",
    "    rdf.compute(system=(box, pos), reset=False)"
   ]
  },
  {
   "cell_type": "markdown",
   "id": "4dbdfb73",
   "metadata": {},
   "source": [
    "Now, we can plot our RDF! Make sure to properly label each curve and format your axes.\n",
    "\n",
    "6. Compare the RDF from each simulation. What similarities and differences do you notice in the curves? What are the causes of these changes?"
   ]
  },
  {
   "cell_type": "code",
   "execution_count": null,
   "id": "b863e4e7",
   "metadata": {},
   "outputs": [],
   "source": [
    "fig,ax = plt.subplots()\n",
    "ax.plot(rdf.bin_centers, rdf.rdf)\n",
    "plt.show()"
   ]
  }
 ],
 "metadata": {
  "kernelspec": {
   "display_name": "hoomd4",
   "language": "python",
   "name": "hoomd"
  },
  "language_info": {
   "codemirror_mode": {
    "name": "ipython",
    "version": 3
   },
   "file_extension": ".py",
   "mimetype": "text/x-python",
   "name": "python",
   "nbconvert_exporter": "python",
   "pygments_lexer": "ipython3",
   "version": "3.11.4"
  }
 },
 "nbformat": 4,
 "nbformat_minor": 5
}
