{
 "cells": [
  {
   "cell_type": "markdown",
   "id": "08e95e93",
   "metadata": {},
   "source": [
    "# Homework 4 - Hard Sphere Phase Behavior"
   ]
  },
  {
   "cell_type": "markdown",
   "id": "0b79e340",
   "metadata": {},
   "source": [
    "For this homework assignment, we will look at the structural ordering of hard spheres within different phase boundaries. **Simulate 5 systems of hard spheres at different volume fractions, $\\mathbf{\\phi = 0.4, 0.5, 0.6, 0.7, \\text{and} \\: 0.74}$.** \n",
    "\n",
    "**For each simulation, note the phase of the system and calculate the RDF (see `HW4-Analysis.ipynb`). Please submit your responses to the questions and RDF plots in addition to one plot of all RDFs with comparisons in a PDF file along with the rest of your homework solutions and a PDF version of this notebook to Canvas.**"
   ]
  },
  {
   "cell_type": "markdown",
   "id": "be4574ea",
   "metadata": {},
   "source": [
    "As always, we begin by importing our needed packages."
   ]
  },
  {
   "cell_type": "code",
   "execution_count": null,
   "id": "d9e43c12",
   "metadata": {},
   "outputs": [],
   "source": [
    "import hoomd\n",
    "import gsd.hoomd\n",
    "import numpy as np\n",
    "import itertools"
   ]
  },
  {
   "cell_type": "markdown",
   "id": "1edec34e",
   "metadata": {},
   "source": [
    "This time around, I will let you set up the simulation yourself with a little outline to guide you. As always, we must first create our simulation object."
   ]
  },
  {
   "cell_type": "code",
   "execution_count": 1,
   "id": "e24546d7",
   "metadata": {},
   "outputs": [],
   "source": [
    "#choose your device and create the simulation object and integrator"
   ]
  },
  {
   "cell_type": "markdown",
   "id": "e5b8079c",
   "metadata": {},
   "source": [
    "Next, initializw the neighbor list and create a Lennard-Jones force. To model psuedo-hard-sphere behavior, set the cutoff of the LJ potential to be $2^{1/6}\\sigma$. "
   ]
  },
  {
   "cell_type": "code",
   "execution_count": 2,
   "id": "4a13e6db",
   "metadata": {},
   "outputs": [],
   "source": [
    "#initialize your neighborlist and create a lennard-jones force. Set r_cut to 2^(1/6)"
   ]
  },
  {
   "cell_type": "markdown",
   "id": "d1d10f12",
   "metadata": {},
   "source": [
    "Now it's time to set up the integration methods. For these simulations, we want an NVT integration method with a Nosé-Hoover thermostat and $kT = 1.0$. Since we're doing NVT integration, we also have to assign non-zero velocities to the particles in our system. If you don't remember how to set this up, check the HOOMD documentation!"
   ]
  },
  {
   "cell_type": "code",
   "execution_count": null,
   "id": "386ae032",
   "metadata": {},
   "outputs": [],
   "source": [
    "#set up the integration methods"
   ]
  },
  {
   "cell_type": "markdown",
   "id": "baa61629",
   "metadata": {},
   "source": [
    "Next up is to create the compute object to compute our thermodynamic properties."
   ]
  },
  {
   "cell_type": "code",
   "execution_count": 3,
   "id": "d5bb083e",
   "metadata": {},
   "outputs": [],
   "source": [
    "#compute thermodynamic properties"
   ]
  },
  {
   "cell_type": "markdown",
   "id": "ae42bbc9",
   "metadata": {},
   "source": [
    "And the last thing you're going to do for now is set up your table logger. Note: Only set up the table logger now, we don't want to set up our GSD writer until later!"
   ]
  },
  {
   "cell_type": "code",
   "execution_count": null,
   "id": "c25203e0",
   "metadata": {},
   "outputs": [],
   "source": [
    "#create table logger"
   ]
  },
  {
   "cell_type": "markdown",
   "id": "9bb757d8",
   "metadata": {},
   "source": [
    "Now that you've set up the main parts of the simulation, I'm going to add something new! As we discussed in class, hard spheres undergo phase transitions without the influence of temperature. This means that we can simulate the different phases of a hard sphere system by simply changing the volume fraction within the system! "
   ]
  },
  {
   "cell_type": "markdown",
   "id": "e4ab9d41",
   "metadata": {},
   "source": [
    "One of the easiest ways to change the volume fraction of the system in an MD simulation is by changing the size of the box, which is what we are going to set up here. The way HOOMD scales the simulation box is by using a **Variant** to interpolate between the initial and final box dimensions. We are going to use a **Ramp** variant to linearly scale the box. To do this we must first create our variant object, which is going to be a ramp."
   ]
  },
  {
   "cell_type": "code",
   "execution_count": null,
   "id": "1cf2884a",
   "metadata": {},
   "outputs": [],
   "source": [
    "t_ramp = 1000\n",
    "ramp = hoomd.variant.Ramp(A=0, B=1, t_start=sim.timestep, t_ramp=t_ramp)"
   ]
  },
  {
   "cell_type": "markdown",
   "id": "8316e096",
   "metadata": {},
   "source": [
    "The ramp we just created is going to start at the current timestep (`sim.timestep`) and end 1000 timesteps later. Now that we've established the variant, we can get our initial box from the simulation state, and calculate our initial volume fraction. The equation for volume fraction can be defined as: $$\\phi=\\frac{V_{particles}}{V_{box}} = \\frac{N_{particles}*\\left(\\frac{4}{3}\\pi r^3\\right)}{L_{box}^3}$$ \n",
    "\n",
    "with $r$ representing the radius of the particle."
   ]
  },
  {
   "cell_type": "code",
   "execution_count": null,
   "id": "d7dd2d28",
   "metadata": {},
   "outputs": [],
   "source": [
    "init_box = sim.state.box\n",
    "phi = (sim.state.N_particles*(4/3)*np.pi*(0.5**2))/init_box.volume"
   ]
  },
  {
   "cell_type": "markdown",
   "id": "a4a649e1",
   "metadata": {},
   "source": [
    "Next, we want to create our final box and calculate its volume using our desired volume fraction."
   ]
  },
  {
   "cell_type": "code",
   "execution_count": null,
   "id": "96a17586",
   "metadata": {},
   "outputs": [],
   "source": [
    "final_box = hoomd.Box.from_box(init_box)\n",
    "new_phi = \n",
    "final_box.volume = (sim.state.N_particles*(4/3)*np.pi*(0.5**2))/new_phi"
   ]
  },
  {
   "cell_type": "markdown",
   "id": "27f19d45",
   "metadata": {},
   "source": [
    "And finally, we can create our `BoxResize` updater. In HOOMD, updaters do exactly what it sounds like, they update the simulation state. We can give this updater a periodic trigger so that it can gradually change the box volume and we can ensure that we don't cause any undesired forces in the system. "
   ]
  },
  {
   "cell_type": "code",
   "execution_count": null,
   "id": "90e8891c",
   "metadata": {},
   "outputs": [],
   "source": [
    "box_resize = hoomd.update.BoxResize(box1=init_box, box2=final_box, \n",
    "                                   variant=ramp, trigger=hoomd.trigger.Periodic(10))\n",
    "sim.operations.updaters.append(box_resize)"
   ]
  },
  {
   "cell_type": "markdown",
   "id": "6975a90d",
   "metadata": {},
   "source": [
    "Let's now run the simulation for `t_ramp` timesteps and then remove the `box_resize` object from our list of updaters."
   ]
  },
  {
   "cell_type": "code",
   "execution_count": null,
   "id": "2077fd4c",
   "metadata": {},
   "outputs": [],
   "source": [
    "sim.run(t_ramp)\n",
    "sim.operations.updaters.remove(box_resize)"
   ]
  },
  {
   "cell_type": "markdown",
   "id": "19ec6bd6",
   "metadata": {},
   "source": [
    "Now that we've rescaled the box to achieve our desired volume fraction, we can set up our GSD writer just like normal to log our simulation trajectory."
   ]
  },
  {
   "cell_type": "code",
   "execution_count": null,
   "id": "c47cf05e",
   "metadata": {},
   "outputs": [],
   "source": [
    "#create GSD writer"
   ]
  },
  {
   "cell_type": "markdown",
   "id": "b78ab50a",
   "metadata": {},
   "source": [
    "And finally we can run the simulation. Don't forget to flush your GSD writer afterward!"
   ]
  },
  {
   "cell_type": "code",
   "execution_count": null,
   "id": "74ba19c9",
   "metadata": {},
   "outputs": [],
   "source": [
    "#run the simulation!"
   ]
  },
  {
   "cell_type": "markdown",
   "id": "68a82440",
   "metadata": {},
   "source": [
    "To do the post-processing for this simulation, see the analysis notebook!"
   ]
  }
 ],
 "metadata": {
  "kernelspec": {
   "display_name": "hoomd4",
   "language": "python",
   "name": "hoomd"
  },
  "language_info": {
   "codemirror_mode": {
    "name": "ipython",
    "version": 3
   },
   "file_extension": ".py",
   "mimetype": "text/x-python",
   "name": "python",
   "nbconvert_exporter": "python",
   "pygments_lexer": "ipython3",
   "version": "3.11.4"
  }
 },
 "nbformat": 4,
 "nbformat_minor": 5
}
