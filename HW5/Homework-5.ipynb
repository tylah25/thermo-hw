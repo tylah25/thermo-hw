{
 "cells": [
  {
   "cell_type": "markdown",
   "id": "5cdbca42",
   "metadata": {},
   "source": [
    "# Homework 5 - Simulating Polymer Melts"
   ]
  },
  {
   "cell_type": "markdown",
   "id": "5364a3dd",
   "metadata": {},
   "source": [
    "So far, we've only looked at simulations of individual particles, but now that we've learned some of the basics of MD, we can apply our knowledge to more complex systems, like polymer melts. *(yay we love polymers!)* The instructions for this assignment are at the end of this notebook."
   ]
  },
  {
   "cell_type": "markdown",
   "id": "c964dba0",
   "metadata": {},
   "source": [
    "As always, we start by importing our packages."
   ]
  },
  {
   "cell_type": "code",
   "execution_count": null,
   "id": "471c2bf8",
   "metadata": {},
   "outputs": [],
   "source": [
    "import numpy as np\n",
    "import hoomd\n",
    "import gsd.hoomd"
   ]
  },
  {
   "cell_type": "markdown",
   "id": "a3bd0d59",
   "metadata": {},
   "source": [
    "We are now going to load in our input configuration file. Make sure that you use `gen-init-config.ipynb` to create your initial configuration file. For these simulations, we have one particle type, `'typeA'`. We now also have bonds in our system! Bonds have properties similar to particles, there are bond types (`'A-A'` for this simulation), bond type ids, and bond groups. All of this was set up in the initial configuration file.  "
   ]
  },
  {
   "cell_type": "code",
   "execution_count": null,
   "id": "d0f12824",
   "metadata": {},
   "outputs": [],
   "source": [
    "cpu = hoomd.device.CPU()\n",
    "sim = hoomd.Simulation(device=cpu, seed=1)\n",
    "sim.create_state_from_gsd(f'chl{chl}_init.gsd.gsd')\n",
    "integrator = hoomd.md.Integrator(dt=0.005)"
   ]
  },
  {
   "cell_type": "markdown",
   "id": "532762b7",
   "metadata": {},
   "source": [
    "Now we can set up the simulation. We are going to use a Lennard-Jones pair potential as usual, with a cutoff of $2^{1/6}\\sigma$ to create our excluded volume interactions. "
   ]
  },
  {
   "cell_type": "code",
   "execution_count": null,
   "id": "3ed0415b",
   "metadata": {},
   "outputs": [],
   "source": [
    "cell = hoomd.md.nlist.Cell(buffer=0.4)\n",
    "lj = hoomd.md.pair.LJ(nlist=cell, r_cut=2**(1/6))\n",
    "lj.params[('typeA','typeA')] = dict(epsilon=1, sigma=1)\n",
    "integrator.forces.append(lj)"
   ]
  },
  {
   "cell_type": "markdown",
   "id": "dbccacf1",
   "metadata": {},
   "source": [
    "Now, we need to set up the bond force for our bonded interactions. Polymers are commonly modeled in coarse-grained simulations using a bead-spring model. This model uses beads (spherical particles) to represent groups of monomers connected by springs with a Finitely Extensible Non-linear Elastic (FENE) potential. HOOMD extends this potential to include an excluded volume interaction term, also known as the Weeks-Chandler-Anderson (WCA) potential (this is just the LJ potential truncated at $2^{1/6}\\sigma$). \n",
    "$$U_{FENE}(r)=-0.5KR_0^2ln\\left[1-\\left(\\frac{r}{R_0}\\right)^2\\right]+4\\epsilon\\left[\\left(\\frac{\\sigma}{r}\\right)^{12}-\\left(\\frac{\\sigma}{r}\\right)^6\\right]$$\n",
    "with $K$ as the spring constant, and $R_0$ as the maximum bond length. We are going to use $K=30.0$ and $R_0=1.5$ which are standard parameters for modelling polymer systems. "
   ]
  },
  {
   "cell_type": "code",
   "execution_count": null,
   "id": "1c510421",
   "metadata": {},
   "outputs": [],
   "source": [
    "fene = hoomd.md.bond.FENEWCA()\n",
    "fene.params['A-A'] = dict(k=30.0, r0=1.5, sigma=1, epsilon=1, delta=0)\n",
    "integrator.forces.append(fene)"
   ]
  },
  {
   "cell_type": "markdown",
   "id": "0f727c42",
   "metadata": {},
   "source": [
    "Now we can set up our integration method. When discussing polymers, we are usually referring to polymers in some solvent. There are ways to model solvent molecules explicitly using MD, but for our purposes (and most coarse-grained simulations) we don't need the explicit solvent molecules, we can instead model the solvent _implicitly_ using a friction (or drag) force in addition to random forces acting on the particles. \n",
    "\n",
    "This is called Langevin dynamics (or Brownian dynamics, which is just Langevin without inertia), and is a subset of Molecular Dynamics simulations. To implement Langevin Dynamics, we integrate the Langevin equations of motion in the canonical ensemble (NVT) as follows:\n",
    "\n",
    "$$ m\\frac{d\\vec{v}}{dt} = \\vec{F}_C - \\gamma \\cdot \\vec{v} + \\vec{F}_R$$\n",
    "$$\\langle{\\vec{F}_R\\rangle}=0$$\n",
    "$$\\langle{|\\vec{F}_R|^2\\rangle}=2dkT\\gamma/\\delta t$$\n",
    "\n",
    "where $\\vec{F}_C$ is the combined force on the particle from all potentials, $\\gamma$ is the drag coefficient, $\\vec{v}$ is the particle velocity, $\\vec{F}_R$ is a uniform random force, and $d$ is the dimensionality of the system (in our case, $d=3$).\n"
   ]
  },
  {
   "cell_type": "code",
   "execution_count": null,
   "id": "68e972cd",
   "metadata": {},
   "outputs": [],
   "source": [
    "langevin = hoomd.md.methods.Langevin(filter=hoomd.filter.All(), kT=1.0)\n",
    "integrator.methods.append(langevin)"
   ]
  },
  {
   "cell_type": "markdown",
   "id": "d1bc4def",
   "metadata": {},
   "source": [
    "Now we can add in our thermo compute and table logger like usual."
   ]
  },
  {
   "cell_type": "code",
   "execution_count": null,
   "id": "cdf6f355",
   "metadata": {},
   "outputs": [],
   "source": [
    "thermo = hoomd.md.compute.ThermodynamicQuantities(filter=hoomd.filter.All())\n",
    "sim.operations.computes.append(thermo)\n",
    "\n",
    "table_logger = hoomd.logging.Logger(categories=['scalar', 'string'])\n",
    "table_logger.add(sim, quantities=['timestep', 'tps', 'walltime'])\n",
    "table = hoomd.write.Table(trigger=hoomd.trigger.Periodic(period=10000), logger=table_logger)\n",
    "sim.operations.writers.append(table)"
   ]
  },
  {
   "cell_type": "markdown",
   "id": "bbec3509",
   "metadata": {},
   "source": [
    "Just like the last simulation you worked on, we need to resize the box to achieve our target density. We are representing a dense polymer melt in this simulation, so we want to set the *density* of the system (not volume fraction) to $\\rho=0.85$. Aside from the change from volume fraction to density, the process remains the same. "
   ]
  },
  {
   "cell_type": "code",
   "execution_count": null,
   "id": "51c1d777",
   "metadata": {},
   "outputs": [],
   "source": [
    "ramp = hoomd.variant.Ramp(A=0, B=1, t_start=sim.timestep, t_ramp=1000)\n",
    "initial_box = sim.state.box\n",
    "final_box = hoomd.Box.from_box(initial_box)\n",
    "rho = 0.85\n",
    "final_box.volume = (sim.state.N_particles)/rho\n",
    "box_resize = hoomd.update.BoxResize(box1=initial_box,\n",
    "                                    box2=final_box,\n",
    "                                    variant=ramp,\n",
    "                                    trigger = hoomd.trigger.Periodic(10))\n",
    "sim.operations.updaters.append(box_resize)\n",
    "sim.run(1000)\n",
    "sim.operations.updaters.remove(box_resize)"
   ]
  },
  {
   "cell_type": "markdown",
   "id": "ebc30240",
   "metadata": {},
   "source": [
    "Since we're dealing with polymer chains, however, we want to make sure that they're properly equilibrated by running the simulation for a little bit longer before we collect any data. "
   ]
  },
  {
   "cell_type": "code",
   "execution_count": null,
   "id": "b696efd2",
   "metadata": {},
   "outputs": [],
   "source": [
    "sim.run(5000)"
   ]
  },
  {
   "cell_type": "markdown",
   "id": "36cc632a",
   "metadata": {},
   "source": [
    "Now we can collect our data! We're going to be computing MSDs later, so don't forget to include image flags."
   ]
  },
  {
   "cell_type": "code",
   "execution_count": null,
   "id": "33f7e825",
   "metadata": {},
   "outputs": [],
   "source": [
    "logger = hoomd.logging.Logger()\n",
    "logger.add(thermo)\n",
    "gsd_writer = hoomd.write.GSD(filename=f'log-chl{chl}.gsd', trigger=hoomd.trigger.Periodic(1000), mode='wb', \n",
    "                             filter=hoomd.filter.All(), dynamic=['property', 'particles/image'], logger=logger)\n",
    "sim.operations.writers.append(gsd_writer)\n",
    "\n",
    "sim.run(500000)\n",
    "gsd_writer.flush()"
   ]
  },
  {
   "cell_type": "markdown",
   "id": "b1ad9718",
   "metadata": {},
   "source": [
    "Now that you've learned how to simulate a simple coarse-grained polymer melt, use this to simulate polymer melts with chain lengths of **2, 4, 6, 8, 12, and 16** and $N=480$ total particles in the system. For each of these, calculate the mean-squared displacement (follow the methods we used in HW3) and the diffusion constant. **Answer the following questions:**\n",
    "1. What is coarse-graining, and why is it used in simulations? What are some of the important attributes of polymers that we want to make sure are reflected in coarse-grained models?\n",
    "2. Plot all the MSDs on one figure. What trend do you notice in the MSD as chain length varies? Why does this trend occur? \n",
    "3. Plot the diffusion constant versus chain length. Does the diffusion constant appear to obey any obvious scaling law, $D\\sim M^v$ where $v$ is an exponent?\n",
    "\n",
    "**Please submit the plots and explainations in one PDF document to Canvas!**"
   ]
  },
  {
   "cell_type": "markdown",
   "id": "5400970a",
   "metadata": {},
   "source": [
    "I recommend (though it's not required) attempting to automate this problem using python functions. One way to do this is by making a simulation function and an analysis function (you could also do this to generate the initial configuration files), then using a for loop to sweep the parameters of interest. If you are struggling with figuring out functions, check out [this link](https://www.w3schools.com/python/python_functions.asp) or come to my office hours!"
   ]
  }
 ],
 "metadata": {
  "kernelspec": {
   "display_name": "hoomd4",
   "language": "python",
   "name": "hoomd"
  },
  "language_info": {
   "codemirror_mode": {
    "name": "ipython",
    "version": 3
   },
   "file_extension": ".py",
   "mimetype": "text/x-python",
   "name": "python",
   "nbconvert_exporter": "python",
   "pygments_lexer": "ipython3",
   "version": "3.11.4"
  }
 },
 "nbformat": 4,
 "nbformat_minor": 5
}
