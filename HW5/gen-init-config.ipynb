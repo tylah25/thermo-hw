{
 "cells": [
  {
   "cell_type": "markdown",
   "id": "67214bae",
   "metadata": {},
   "source": [
    "# Generate Initial Configuration"
   ]
  },
  {
   "cell_type": "markdown",
   "id": "67bde6d3",
   "metadata": {},
   "source": [
    "This script will generate the initial configuration file for your polymer simulations. "
   ]
  },
  {
   "cell_type": "code",
   "execution_count": 1,
   "id": "66d32297",
   "metadata": {},
   "outputs": [],
   "source": [
    "import numpy as np \n",
    "import gsd.hoomd\n",
    "import hoomd"
   ]
  },
  {
   "cell_type": "markdown",
   "id": "db802df0",
   "metadata": {},
   "source": [
    "First let's define our input variables, `chl` which is the chain length or number of beads per polymer and `N` which is the number of *total atoms* in the system. Once we set those we can determine the number of polymer chains `nch = N/chl`. We can also create an array to store particle positions in and set the box size."
   ]
  },
  {
   "cell_type": "code",
   "execution_count": 2,
   "id": "3dde1b66",
   "metadata": {},
   "outputs": [],
   "source": [
    "chl = 2\n",
    "N = 480 \n",
    "nch = int(N/chl)\n",
    "\n",
    "#allocate arrays\n",
    "pos = np.zeros((N,3), 'd')\n",
    "L = np.array([15, 15, 15])"
   ]
  },
  {
   "cell_type": "markdown",
   "id": "11d0878e",
   "metadata": {},
   "source": [
    "Now we can determine the high and low bounds of the simulation box, as well as the position of the first particle, which will be in the corner of the simulation box."
   ]
  },
  {
   "cell_type": "code",
   "execution_count": null,
   "id": "dd6a7743",
   "metadata": {},
   "outputs": [],
   "source": [
    "lo = -L/2.0 #lower box bounds\n",
    "hi = L/2.0 #upper box bounds\n",
    "\n",
    "xo, yo, zo = -L[0]/2.0, -L[1]/2.0, -L[2]/2.0 #initial x, y, and z positions"
   ]
  },
  {
   "cell_type": "markdown",
   "id": "6633400b",
   "metadata": {},
   "source": [
    "Next, we can place the particles on a lattice by snaking through the box, checking that a new particle will fit, and then placing it before moving on to the next spot on the lattice. "
   ]
  },
  {
   "cell_type": "code",
   "execution_count": null,
   "id": "60476b34",
   "metadata": {},
   "outputs": [],
   "source": [
    "dx = 1.0 #spacing between particles in the x direction\n",
    "dy = 1.0 #spacing between particles in the y direction\n",
    "\n",
    "# Put particles on a lattice \n",
    "for i in range(0, N):\n",
    "    pos[i,0], pos[i,1], pos[i,2] = xo, yo, zo\n",
    "    xo += dx\n",
    "    if (xo*dx >= hi[0]):\n",
    "        yo += dy\n",
    "        xo -=dx\n",
    "        dx *= -1.0\n",
    "\n",
    "        if (yo*dy >= hi[1]):\n",
    "            yo -= dy\n",
    "            zo += 1.0\n",
    "            dy *= -1.0"
   ]
  },
  {
   "cell_type": "markdown",
   "id": "d9214289",
   "metadata": {},
   "source": [
    "Finally, we can store all this information in a GSD frame and write it to our initial configuration file. "
   ]
  },
  {
   "cell_type": "code",
   "execution_count": null,
   "id": "1610e440",
   "metadata": {},
   "outputs": [],
   "source": [
    "\n",
    "frame = gsd.hoomd.Frame()\n",
    "frame.configuration.box = [L[0], L[1], L[2], 0, 0, 0]\n",
    "\n",
    "frame.particles.N = N\n",
    "frame.particles.types=['typeA']\n",
    "frame.particles.typeid=[0]*N\n",
    "frame.particles.position=pos\n",
    "\n",
    "#here we assign the bonds between particles on the same polymer chain\n",
    "frame.bonds.N = (nch*(chl-1))\n",
    "bond = 0\n",
    "bond_groups = []\n",
    "for i in range(0, nch):\n",
    "    for j in range(0, chl-1):\n",
    "        i1 = chl*i + j\n",
    "        i2 = i1+1\n",
    "        bond_groups.append([i1, i2])\n",
    "        bond += 1\n",
    "frame.bonds.group = np.array(bond_groups)\n",
    "frame.bonds.types = ['A-A']\n",
    "frame.bonds.typeid = [0]*len(bond_groups)\n",
    "\n",
    "#note: the filename is an f string, meaning it will write the value of the variable \n",
    "# within the brackets, so you don't need to change it manually\n",
    "with gsd.hoomd.open(name=f'chl{chl}_init.gsd', mode='w') as f: \n",
    "    f.append(frame)\n",
    "f.close()"
   ]
  }
 ],
 "metadata": {
  "kernelspec": {
   "display_name": "hoomd4",
   "language": "python",
   "name": "hoomd"
  },
  "language_info": {
   "codemirror_mode": {
    "name": "ipython",
    "version": 3
   },
   "file_extension": ".py",
   "mimetype": "text/x-python",
   "name": "python",
   "nbconvert_exporter": "python",
   "pygments_lexer": "ipython3",
   "version": "3.11.4"
  }
 },
 "nbformat": 4,
 "nbformat_minor": 5
}
