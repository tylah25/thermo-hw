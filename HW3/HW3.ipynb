{
 "cells": [
  {
   "cell_type": "markdown",
   "id": "844b28d6",
   "metadata": {},
   "source": [
    "# Homework 3"
   ]
  },
  {
   "cell_type": "markdown",
   "id": "a610ab8e",
   "metadata": {},
   "source": [
    "**Please answer all of the bolded questions and include your plots in a pdf document submitted along with this notebook and your homework solutions.**"
   ]
  },
  {
   "cell_type": "markdown",
   "id": "06cae7e8",
   "metadata": {},
   "source": [
    "For the last homework assignment, we looked a binary system of particles mixing within our simulation box. For this homework, we are going to look at movement of particles throughout the box, and determine ways to quantify this diffusion. As always, we will begin by importing all of our needed modules."
   ]
  },
  {
   "cell_type": "code",
   "execution_count": null,
   "id": "1414faba",
   "metadata": {},
   "outputs": [],
   "source": [
    "import numpy as np \n",
    "import hoomd\n",
    "import gsd.hoomd\n",
    "import matplotlib.pyplot as plt"
   ]
  },
  {
   "cell_type": "markdown",
   "id": "d24fa30b",
   "metadata": {},
   "source": [
    "Now, we need to set up the simulation. This is going to be the same process as all of our previous simulations, so I'll let you do it! **Create the device and simulation object for this simulation.** "
   ]
  },
  {
   "cell_type": "code",
   "execution_count": null,
   "id": "8f1a2513",
   "metadata": {},
   "outputs": [],
   "source": [
    "#device\n",
    "#sim"
   ]
  },
  {
   "cell_type": "markdown",
   "id": "06c4adae",
   "metadata": {},
   "source": [
    "Now that we have created our simulation object, we can load in our initial configuration. We're going to do it a little bit differently this time, but we will get the same result as usual. "
   ]
  },
  {
   "cell_type": "code",
   "execution_count": null,
   "id": "223a3e5a",
   "metadata": {},
   "outputs": [],
   "source": [
    "with gsd.hoomd.open('binary_config.gsd', 'r') as f:\n",
    "    sim.create_state_from_snapshot(f[0])\n",
    "f.close()"
   ]
  },
  {
   "cell_type": "markdown",
   "id": "3794ac37",
   "metadata": {},
   "source": [
    "Now that you've loaded in the initial configuration, we can set up the integrator and forces in the system.  Before you do this, however, I'd like you to **visualize the initial configuration of the system using OVITO**. In this system, you have 1000 particles, 800 type A particles and 200 type B particles. One of the key differences between these particles is their size. Type B's diameter is $0.5\\sigma$, while type A has a diameter of $1\\sigma$. This means that the type A particles are twice the size of the type B particles. We will be using the Lennard-Jones potential as usual. **Set the $\\sigma$ parameters for each of the interaction pairs.** "
   ]
  },
  {
   "cell_type": "code",
   "execution_count": null,
   "id": "14228b2f",
   "metadata": {},
   "outputs": [],
   "source": [
    "#A-A interaction\n",
    "sigma_AA=\n",
    "\n",
    "#B-B interaction\n",
    "sigma_BB=\n",
    "\n",
    "#A-B interaction\n",
    "sigma_AB="
   ]
  },
  {
   "cell_type": "code",
   "execution_count": null,
   "id": "eb968adf",
   "metadata": {},
   "outputs": [],
   "source": [
    "integrator = hoomd.md.Integrator(dt=0.005)\n",
    "sim.operations.integrator = integrator\n",
    "\n",
    "\n",
    "cell = hoomd.md.nlist.Cell(buffer=0.4)\n",
    "lj = hoomd.md.pair.LJ(nlist=cell, default_r_cut=2**(1/6))\n",
    "\n",
    "lj.params[('typeA', 'typeA')] = dict(epsilon=1, sigma=sigma_AA)\n",
    "lj.r_cut[('typeA', 'typeA')] = 2**(1/6)*sigma_AA\n",
    "\n",
    "lj.params[('typeB', 'typeB')] = dict(epsilon=1, sigma=sigma_BB)\n",
    "lj.r_cut[('typeB', 'typeB')] = 2**(1/6)*sigma_BB\n",
    "\n",
    "lj.params[('typeA', 'typeB')] = dict(epsilon=1, sigma=sigma_AB)\n",
    "lj.r_cut[('typeA', 'typeB')] = 2**(1/6)*sigma_AB\n",
    "\n",
    "integrator.forces.append(lj)\n",
    "\n",
    "nvt = hoomd.md.methods.ConstantVolume(filter=hoomd.filter.All(), \n",
    "                                      thermostat=hoomd.md.methods.thermostats.MTTK(kT=1.0, \n",
    "                                                                tau=sim.operations.integrator.dt*100))\n",
    "integrator.methods.append(nvt)\n",
    "\n",
    "sim.state.thermalize_particle_momenta(filter=hoomd.filter.All(), kT=1.0)\n",
    "\n",
    "thermo_properties = hoomd.md.compute.ThermodynamicQuantities(filter=hoomd.filter.All())\n",
    "sim.operations.computes.append(thermo_properties)"
   ]
  },
  {
   "cell_type": "markdown",
   "id": "af54357b",
   "metadata": {},
   "source": [
    "To make our analysis easier, we are going to create 3 separate loggers. We will have one main logger that logs the data for the entire system, one that logs data for just the A particles, and one that logs data for just the B particles. Make sure that you make each filename unique so that you don't accidentally overwrite your log files. "
   ]
  },
  {
   "cell_type": "code",
   "execution_count": null,
   "id": "e2288352",
   "metadata": {},
   "outputs": [],
   "source": [
    "logger = hoomd.logging.Logger()\n",
    "\n",
    "typeA_writer = hoomd.write.GSD(filename='trajA.gsd', trigger=hoomd.trigger.Periodic(100), \n",
    "                              mode='wb', filter=hoomd.filter.Type(['typeA']), \n",
    "                              dynamic=['property', 'particles/image'], logger=logger)\n",
    "typeA_writer.write_diameter=True\n",
    "sim.operations.writers.append(typeA_writer)\n",
    "\n",
    "typeB_writer = hoomd.write.GSD(filename='trajB.gsd', trigger=hoomd.trigger.Periodic(100), \n",
    "                              mode='wb', filter=hoomd.filter.Type(['typeB']), \n",
    "                              dynamic=['property', 'particles/image'], logger=logger)\n",
    "typeB_writer.write_diameter=True\n",
    "sim.operations.writers.append(typeB_writer)\n",
    "\n",
    "\n",
    "logger.add(thermo_properties)\n",
    "gsd_writer = hoomd.write.GSD(filename='log.gsd', trigger = hoomd.trigger.Periodic(1000), \n",
    "                             mode='wb', filter=hoomd.filter.All(), \n",
    "                             dynamic=['property', 'particles/image'], logger=logger)\n",
    "gsd_writer.write_diameter=True\n",
    "sim.operations.writers.append(gsd_writer)\n",
    "\n",
    "\n",
    "\n",
    "table_logger = hoomd.logging.Logger(categories=['scalar', 'string'])\n",
    "table_logger.add(sim, quantities=['timestep', 'tps', 'walltime'])\n",
    "table = hoomd.write.Table(trigger=hoomd.trigger.Periodic(period=100000),\n",
    "                          logger=table_logger)\n",
    "sim.operations.writers.append(table)"
   ]
  },
  {
   "cell_type": "markdown",
   "id": "47606b80",
   "metadata": {},
   "source": [
    "Now, we can run the simulation! We want to run this simulation for a long time to ensure we get accurate data. "
   ]
  },
  {
   "cell_type": "code",
   "execution_count": null,
   "id": "d029499c",
   "metadata": {},
   "outputs": [],
   "source": [
    "sim.run(1000000)\n",
    "gsd_writer.flush()\n",
    "typeA_writer.flush()\n",
    "typeB_writer.flush()"
   ]
  },
  {
   "cell_type": "markdown",
   "id": "b52b09fd",
   "metadata": {},
   "source": [
    "# Analysis"
   ]
  },
  {
   "cell_type": "markdown",
   "id": "1fed40ea",
   "metadata": {},
   "source": [
    "To quantify the diffusion happening in our system, we are going to calculated the Mean-Squared Displacement (MSD) of the particles in our system. The MSD measures how far a particle has travelled from its initial position over time. There are many ways to calculate the MSD, but for this assignment we will be calculating it directly using the equation $${MSD}(t) = \\frac{1}{N_{particles}} \\sum_{i=1}^{N_{particles}} (r_i(t)-r_i(0))^2 $$\n",
    "\n",
    "We can calculate the MSD using freud."
   ]
  },
  {
   "cell_type": "code",
   "execution_count": null,
   "id": "3514342f",
   "metadata": {},
   "outputs": [],
   "source": [
    "import freud"
   ]
  },
  {
   "cell_type": "markdown",
   "id": "c6054dd8",
   "metadata": {},
   "source": [
    "First, we need to load our trajectory files and extract the relevant data from our simulation. To calculate the MSD with freud, we need the box dimensions, the particle positions, and the particle image flags. The image flags tell us how many times a particle crosses a periodic boundary condition. Using these image flags, freud will calculate the 'unwrapped' particle positions, aka the true distance that the particles have travelled. We want to compare the MSDs of our A and B particles, so we need to load each trajectory separately. "
   ]
  },
  {
   "cell_type": "code",
   "execution_count": null,
   "id": "cf716ca7",
   "metadata": {},
   "outputs": [],
   "source": [
    "trajA = gsd.hoomd.open('trajA.gsd', mode='r')\n",
    "trajB = gsd.hoomd.open('trajB.gsd', mode='r')\n",
    "\n",
    "NA = trajA[0].particles.N\n",
    "NB = trajB[0].particles.N\n",
    "nframes = trajA.__len__()\n",
    "imgA = np.zeros([nframes, NA, 3])\n",
    "imgB = np.zeros([nframes, NB, 3])\n",
    "posA = np.zeros([nframes, NA, 3])\n",
    "posB = np.zeros([nframes, NB, 3])\n",
    "for i in range(nframes):\n",
    "    imgA[i] = trajA[i].particles.image\n",
    "    posA[i] = trajA[i].particles.position    \n",
    "    imgB[i] = trajB[i].particles.image\n",
    "    posB[i] = trajB[i].particles.position"
   ]
  },
  {
   "cell_type": "markdown",
   "id": "73c672c6",
   "metadata": {},
   "source": [
    "Now that we've gotten gotten our particle data, we can compute the MSD. For more information about freud's MSD module, take a look at their [documentation](https://freud.readthedocs.io/en/latest/modules/msd.html). "
   ]
  },
  {
   "cell_type": "code",
   "execution_count": null,
   "id": "8259956b",
   "metadata": {},
   "outputs": [],
   "source": [
    "box = freud.box.Box.from_box(trajA[0].configuration.box)\n",
    "msdA = freud.msd.MSD(box, 'direct').compute(posA, imgA)\n",
    "msdB = freud.msd.MSD(box, 'direct').compute(posB, imgB)"
   ]
  },
  {
   "cell_type": "markdown",
   "id": "d6a87035",
   "metadata": {},
   "source": [
    "Now, let's plot the MSD! First, we're going to look at a log-log plot of the MSD vs. time. If you look at the slopes of the lines on the plot, you'll notice two distinct regions, or diffusion regimes. **What are the log-log slopes of these two regions, and how do they differ from each other? What do you think causes the two diffusion regimes?**"
   ]
  },
  {
   "cell_type": "code",
   "execution_count": null,
   "id": "4abc7eb2",
   "metadata": {},
   "outputs": [],
   "source": [
    "timesteps = np.linspace(0, 1000000, nframes)\n",
    "fig, ax = plt.subplots()\n",
    "\n",
    "ax.loglog(timesteps, msdA.msd, label='typeA')\n",
    "ax.loglog(timesteps, msdB.msd, label='typeB')\n",
    "ax.legend()\n",
    "ax.set_xlabel('timesteps')\n",
    "ax.set_ylabel('MSD')\n",
    "plt.show()"
   ]
  },
  {
   "cell_type": "markdown",
   "id": "21c22dbe",
   "metadata": {},
   "source": [
    "Now that we've looked at the log-log plots of our MSD, let's look at our normal plot. We can use this to calculate our diffusion coefficient. **Plot the MSD vs. time for the two particle types.**"
   ]
  },
  {
   "cell_type": "code",
   "execution_count": null,
   "id": "6ea66f53",
   "metadata": {},
   "outputs": [],
   "source": [
    "#Plot the MSD vs. time for the two particle types"
   ]
  },
  {
   "cell_type": "markdown",
   "id": "89eff708",
   "metadata": {},
   "source": [
    "The MSD is related to the diffusion coefficient for simple systems by the Einstein expression $$ D = \\lim_{t\\to\\inf}\\frac{1}{6N_{particles}t}\\left\\langle\\sum_{i=1}^{N_{particles}}\\left[r_i(t)-r_i(0)\\right]^2\\right\\rangle $$\n",
    "\n",
    "Using this expression, we can calculate the diffusion coefficient of our system by fitting the tail end of the MSD (aka the MSD as $t\\to\\inf$) to a linear equation and finding the slope of that line. The diffusion coefficient can then be estimated as $$D=\\frac{1}{6}\\frac{d(MSD)}{dt}$$ \n",
    "\n",
    "**Calculate the diffusion coefficient for each particle type and discuss why the particles behave differently in this simulation.**  "
   ]
  },
  {
   "cell_type": "code",
   "execution_count": null,
   "id": "3bccd695",
   "metadata": {},
   "outputs": [],
   "source": []
  }
 ],
 "metadata": {
  "kernelspec": {
   "display_name": "hoomd4",
   "language": "python",
   "name": "hoomd"
  },
  "language_info": {
   "codemirror_mode": {
    "name": "ipython",
    "version": 3
   },
   "file_extension": ".py",
   "mimetype": "text/x-python",
   "name": "python",
   "nbconvert_exporter": "python",
   "pygments_lexer": "ipython3",
   "version": "3.11.4"
  }
 },
 "nbformat": 4,
 "nbformat_minor": 5
}
