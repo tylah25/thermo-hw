{
 "cells": [
  {
   "cell_type": "markdown",
   "id": "b8c6e1a0",
   "metadata": {},
   "source": [
    "# Homework 6 - Question 2"
   ]
  },
  {
   "cell_type": "markdown",
   "id": "c94a8b9f",
   "metadata": {},
   "source": [
    "You already have all of the knowledge required to create this simulation! You will have to generate your own initial configuration file, but look back at your previous homeworks for some guidance.\n",
    "\n",
    "Some things to remember and parameters to note:\n",
    "- Use LJ interactions with a cutoff of $2.5\\sigma$\n",
    "- Don't forget to log the thermodynamic quantities so that you can access the potential energy and volume data.\n",
    "- Make sure you thermalize particle momenta!\n",
    "- For your integration methods, use a ConstantPressure integrator, which I have set up as an example below. "
   ]
  },
  {
   "cell_type": "code",
   "execution_count": null,
   "id": "b88b7dee",
   "metadata": {},
   "outputs": [],
   "source": [
    "bussi = hoomd.md.methods.thermostat.Bussi(kT=1.5)\n",
    "npt = hoomd.md.methods.ConstantPressure(filter=hoomd.md.filter.All(), \n",
    "                                        tauS=1000*integrator.dt, #time coupling constant\n",
    "                                        S=2.0, #pressure\n",
    "                                        couple='xyz', #box sides to change\n",
    "                                        thermostat=bussi) #thermostat"
   ]
  }
 ],
 "metadata": {
  "kernelspec": {
   "display_name": "hoomd4",
   "language": "python",
   "name": "hoomd"
  },
  "language_info": {
   "codemirror_mode": {
    "name": "ipython",
    "version": 3
   },
   "file_extension": ".py",
   "mimetype": "text/x-python",
   "name": "python",
   "nbconvert_exporter": "python",
   "pygments_lexer": "ipython3",
   "version": "3.11.4"
  }
 },
 "nbformat": 4,
 "nbformat_minor": 5
}
