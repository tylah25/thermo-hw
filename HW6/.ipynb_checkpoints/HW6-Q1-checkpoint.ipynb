{
 "cells": [
  {
   "cell_type": "markdown",
   "id": "6a163440",
   "metadata": {},
   "source": [
    "# Homework 6 - Q1"
   ]
  },
  {
   "cell_type": "markdown",
   "id": "0cde201c",
   "metadata": {},
   "source": [
    "In this assignment, we're going to revisit the polymers that you simulated on the last homework assignment. You should be able to answer this question using the same scripts from HW 5. \n",
    "\n",
    "Simulate polymer melts with polymers of chain lengths **4, 8, and 16** and $N=960$ total particles at five different temperatures, $T = 1.0, 1.5, 2.0, 2.5,$ and $3.0$ and calculate the diffusion coefficient for each. Plot $ln(D/T)$ as a function of $1/T$. To what extent does the diffusion constant follow an Arhennius relationship, $D\\sim Texp(-E_a/k_bT)$? \n",
    "\n",
    "To clarify, you should have 15 simulations in total. These will have double the number of particles as your previous homework, so start early and be prepared for longer run times! Like last time, I recommend (though it's not required) attempting to automate this problem using python functions or for loops. If you are struggling with figuring out functions, check out [this link](https://www.w3schools.com/python/python_functions.asp) or come to my office hours!\n",
    "\n",
    "**Please submit plots and explainations (for this question and Q2) in one PDF document to Canvas.**"
   ]
  }
 ],
 "metadata": {
  "kernelspec": {
   "display_name": "hoomd4",
   "language": "python",
   "name": "hoomd"
  },
  "language_info": {
   "codemirror_mode": {
    "name": "ipython",
    "version": 3
   },
   "file_extension": ".py",
   "mimetype": "text/x-python",
   "name": "python",
   "nbconvert_exporter": "python",
   "pygments_lexer": "ipython3",
   "version": "3.11.4"
  }
 },
 "nbformat": 4,
 "nbformat_minor": 5
}
