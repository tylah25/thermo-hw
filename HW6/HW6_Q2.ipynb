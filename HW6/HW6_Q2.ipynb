{
 "cells": [
  {
   "cell_type": "markdown",
   "id": "b8c6e1a0",
   "metadata": {},
   "source": [
    "# Homework 6 - Question 2"
   ]
  },
  {
   "cell_type": "markdown",
   "id": "4c30c874",
   "metadata": {},
   "source": [
    "So far this semester, we have exclusively simulated systems using the canonical ensemble. Now, we will simulate a system using a different ensemble, the isothermal- isobaric ensemble.\n",
    "\n",
    "* What is the partition function for the isothermal-isobaric ensemble? How does this ensemble differ from the canonical ensemble that we have become familiar with? What do you expect to see in your simulation?\n",
    "\n",
    "* Simulate a box of 𝑁 = 100,000 Argon atoms within the isothermal-isobaric ensemble, using the ConstantPressure thermostat in HOOMD with a pressure 𝑃 = 2.0. Plot the volume of the box and the potential energy as a function of time. How long does it take for the system to reach equilibrium? How do you know that you have achieved equilibrium? Create a movie of the system’s evolution.\n",
    "\n",
    "**Please submit plots and explainations (for this question and Q1) in one PDF document to Canvas along with your movie of this system.**"
   ]
  },
  {
   "cell_type": "markdown",
   "id": "c94a8b9f",
   "metadata": {},
   "source": [
    "You already have all of the knowledge required to create this simulation! You will have to generate your own initial configuration file, but look back at your previous homeworks for some guidance.\n",
    "\n",
    "Some things to remember and parameters to note:\n",
    "- Use LJ interactions with a cutoff of $2.5\\sigma$\n",
    "- Don't forget to log the thermodynamic quantities so that you can access the potential energy and volume data.\n",
    "- Make sure you thermalize particle momenta!\n",
    "- For your integration methods, use a ConstantPressure integrator, which I have set up as an example below. "
   ]
  },
  {
   "cell_type": "code",
   "execution_count": null,
   "id": "b88b7dee",
   "metadata": {},
   "outputs": [],
   "source": [
    "bussi = hoomd.md.methods.thermostat.Bussi(kT=1.5)\n",
    "npt = hoomd.md.methods.ConstantPressure(filter=hoomd.md.filter.All(), \n",
    "                                        tauS=1000*integrator.dt, #time coupling constant\n",
    "                                        S=2.0, #pressure\n",
    "                                        couple='xyz', #box sides to change\n",
    "                                        thermostat=bussi) #thermostat"
   ]
  }
 ],
 "metadata": {
  "kernelspec": {
   "display_name": "hoomd4",
   "language": "python",
   "name": "hoomd"
  },
  "language_info": {
   "codemirror_mode": {
    "name": "ipython",
    "version": 3
   },
   "file_extension": ".py",
   "mimetype": "text/x-python",
   "name": "python",
   "nbconvert_exporter": "python",
   "pygments_lexer": "ipython3",
   "version": "3.11.4"
  }
 },
 "nbformat": 4,
 "nbformat_minor": 5
}
